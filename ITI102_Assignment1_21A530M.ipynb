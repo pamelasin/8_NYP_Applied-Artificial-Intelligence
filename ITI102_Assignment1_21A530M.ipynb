{
  "nbformat": 4,
  "nbformat_minor": 0,
  "metadata": {
    "kernelspec": {
      "display_name": "Python 3",
      "language": "python",
      "name": "python3"
    },
    "language_info": {
      "codemirror_mode": {
        "name": "ipython",
        "version": 3
      },
      "file_extension": ".py",
      "mimetype": "text/x-python",
      "name": "python",
      "nbconvert_exporter": "python",
      "pygments_lexer": "ipython3",
      "version": "3.6.5"
    },
    "colab": {
      "name": "ITI102_Assignment1_21A530M.ipynb",
      "provenance": [],
      "collapsed_sections": []
    }
  },
  "cells": [
    {
      "cell_type": "markdown",
      "metadata": {
        "id": "wse8vWWRD0K5"
      },
      "source": [
        "# **Data Science ITI102 Assignment 1**\n",
        "\n",
        "##Smartphone Applications Dataset Analysis\n",
        "Instructions:\n",
        "\n",
        "\n",
        "*   Complete sections with label TODO with the correct code\n",
        "*   Add the code under the label #Add code\n",
        "*   Fill your Name and Admin in the below section\n",
        "\n",
        "\n",
        "\n",
        "```\n",
        "Name : Pamela Sin Hui\n",
        "Admin no: 21A530M\n",
        "```\n",
        "\n",
        "\n"
      ]
    },
    {
      "cell_type": "markdown",
      "metadata": {
        "id": "3lh7DlB8D0K8"
      },
      "source": [
        "## In this assignment, you are going to analyse the dataset for Smartphone Applications\n",
        "\n",
        "###**Dataset Information**\n",
        "\n",
        "You are given a csv file **dataset.csv** with all the data.    \n",
        "There are 13 columns in the csv file.    \n",
        "The first row is the header.    \n",
        "\n",
        "Following are the description for each header for the columns:\n",
        "\n",
        "1.App\t\n",
        "2.Category   \n",
        "3.Rating  \n",
        "4.Reviews\t\n",
        "5.Size\t\n",
        "6.Installs\t\n",
        "7.Type\t\n",
        "8.Price\t\n",
        "9.Content Rating\t\n",
        "10.Genres\t\n",
        "11.Last Updated\t\n",
        "12.Current Ver\t\n",
        "13.Android Ver\n",
        "\n",
        "\n"
      ]
    },
    {
      "cell_type": "markdown",
      "metadata": {
        "id": "1xIPH2cUD0K9"
      },
      "source": [
        "### Complete all the codes in the following sections:\n",
        "> #### 1. Importing Packages\n",
        "> #### 2. Reading Data\n",
        "> #### 3. Data Preprocessing\n",
        "    > #### -  3.1 Handling NULL Values\n",
        "    > #### -  3.2 Handling Data Types and Values\n",
        "> #### 4. Analyzing Features\n",
        "> #### 5. Furthur Analysis.\n",
        "\n",
        "**Read the requirement at TODO**  \n",
        "**Then fill the code in the cell with tag** #Add code\n"
      ]
    },
    {
      "cell_type": "markdown",
      "metadata": {
        "id": "GF0JX8yLD0K9"
      },
      "source": [
        "<a id='1'></a>\n",
        "## 1. Importing the required packages"
      ]
    },
    {
      "cell_type": "markdown",
      "metadata": {
        "id": "qyELf4X1Ipfm"
      },
      "source": [
        "TODO: (0.5 mark)  \n",
        "\n",
        "* Add all the modules that you require for the subsequence steps.\n",
        "\n",
        "* All the required modules must be added in this section."
      ]
    },
    {
      "cell_type": "code",
      "metadata": {
        "id": "w8mSC70gjYAH"
      },
      "source": [
        "import numpy as np\n",
        "import pandas as pd\n",
        "import matplotlib.pyplot as plt\n",
        "import re"
      ],
      "execution_count": null,
      "outputs": []
    },
    {
      "cell_type": "markdown",
      "metadata": {
        "id": "TZQaKg8NsDfl"
      },
      "source": [
        "TODO: (0.5 mark)   \n",
        "* Mount drive in colab      \n",
        "* Create directory in google drive  '/content/drive/My Drive/Data/DSA1/'      \n",
        "* Copy file 'dataset.csv' into directory '/content/drive/My Drive/Data/DSA1/'      "
      ]
    },
    {
      "cell_type": "code",
      "metadata": {
        "colab": {
          "base_uri": "https://localhost:8080/"
        },
        "id": "9_gJz9fniF4w",
        "outputId": "7846801d-ced9-420e-eaaa-93ae92dd4cde"
      },
      "source": [
        "from google.colab import drive\n",
        "drive.mount('/content/drive')"
      ],
      "execution_count": null,
      "outputs": [
        {
          "output_type": "stream",
          "text": [
            "Drive already mounted at /content/drive; to attempt to forcibly remount, call drive.mount(\"/content/drive\", force_remount=True).\n"
          ],
          "name": "stdout"
        }
      ]
    },
    {
      "cell_type": "code",
      "metadata": {
        "id": "cEaf9I0hiUMV"
      },
      "source": [
        "dir = '/content/drive/MyDrive/Data/DSA1/'"
      ],
      "execution_count": null,
      "outputs": []
    },
    {
      "cell_type": "code",
      "metadata": {
        "colab": {
          "base_uri": "https://localhost:8080/"
        },
        "id": "MDYAIgSHietr",
        "outputId": "ee01256b-8455-4802-de67-0999eb48d5ff"
      },
      "source": [
        "!ls '/content/drive/MyDrive/Data/DSA1/'"
      ],
      "execution_count": null,
      "outputs": [
        {
          "output_type": "stream",
          "text": [
            "dataset.csv  ITI102_Assignment1_21A530M.ipynb\n"
          ],
          "name": "stdout"
        }
      ]
    },
    {
      "cell_type": "markdown",
      "metadata": {
        "id": "ZOPxB_dLD0LC"
      },
      "source": [
        "***"
      ]
    },
    {
      "cell_type": "markdown",
      "metadata": {
        "id": "jr-tdc_HD0LD"
      },
      "source": [
        "<a id='2'></a>\n",
        "## 2.  Reading Data\n",
        "TODO: (1 marks)\n",
        "\n",
        "* Use pandas function to read in the given dataset 'dataset.csv' that you have copied in the directory '/content/drive/My Drive/Data/DSA1/'.\n",
        "\n",
        "* Assign the read dataframe into a variable. Use this dataframe variable for the rest of the part in the notebook. \n",
        "\n",
        "* Display the first 5 rows of data that you read using the pandas function."
      ]
    },
    {
      "cell_type": "code",
      "metadata": {
        "id": "pu5pjWkWhoge",
        "colab": {
          "base_uri": "https://localhost:8080/",
          "height": 419
        },
        "outputId": "8f6a66a6-b2fa-4ef7-8434-09c1308b228f"
      },
      "source": [
        "df = pd.read_csv(dir+'dataset.csv')\n",
        "df"
      ],
      "execution_count": null,
      "outputs": [
        {
          "output_type": "execute_result",
          "data": {
            "text/html": [
              "<div>\n",
              "<style scoped>\n",
              "    .dataframe tbody tr th:only-of-type {\n",
              "        vertical-align: middle;\n",
              "    }\n",
              "\n",
              "    .dataframe tbody tr th {\n",
              "        vertical-align: top;\n",
              "    }\n",
              "\n",
              "    .dataframe thead th {\n",
              "        text-align: right;\n",
              "    }\n",
              "</style>\n",
              "<table border=\"1\" class=\"dataframe\">\n",
              "  <thead>\n",
              "    <tr style=\"text-align: right;\">\n",
              "      <th></th>\n",
              "      <th>App</th>\n",
              "      <th>Category</th>\n",
              "      <th>Rating</th>\n",
              "      <th>Reviews</th>\n",
              "      <th>Size</th>\n",
              "      <th>Installs</th>\n",
              "      <th>Type</th>\n",
              "      <th>Price</th>\n",
              "      <th>Content Rating</th>\n",
              "      <th>Genres</th>\n",
              "      <th>Last Updated</th>\n",
              "      <th>Current Ver</th>\n",
              "      <th>Android Ver</th>\n",
              "    </tr>\n",
              "  </thead>\n",
              "  <tbody>\n",
              "    <tr>\n",
              "      <th>0</th>\n",
              "      <td>Photo Editor &amp; Candy Camera &amp; Grid &amp; ScrapBook</td>\n",
              "      <td>ART_AND_DESIGN</td>\n",
              "      <td>4.1</td>\n",
              "      <td>159</td>\n",
              "      <td>19M</td>\n",
              "      <td>10,000+</td>\n",
              "      <td>Free</td>\n",
              "      <td>0</td>\n",
              "      <td>Everyone</td>\n",
              "      <td>Art &amp; Design</td>\n",
              "      <td>January 7, 2018</td>\n",
              "      <td>1.0.0</td>\n",
              "      <td>4.0.3 and up</td>\n",
              "    </tr>\n",
              "    <tr>\n",
              "      <th>1</th>\n",
              "      <td>Coloring book moana</td>\n",
              "      <td>ART_AND_DESIGN</td>\n",
              "      <td>3.9</td>\n",
              "      <td>967</td>\n",
              "      <td>14M</td>\n",
              "      <td>500,000+</td>\n",
              "      <td>Free</td>\n",
              "      <td>0</td>\n",
              "      <td>Everyone</td>\n",
              "      <td>Art &amp; Design;Pretend Play</td>\n",
              "      <td>January 15, 2018</td>\n",
              "      <td>2.0.0</td>\n",
              "      <td>4.0.3 and up</td>\n",
              "    </tr>\n",
              "    <tr>\n",
              "      <th>2</th>\n",
              "      <td>U Launcher Lite – FREE Live Cool Themes, Hide ...</td>\n",
              "      <td>ART_AND_DESIGN</td>\n",
              "      <td>4.7</td>\n",
              "      <td>87510</td>\n",
              "      <td>8.7M</td>\n",
              "      <td>5,000,000+</td>\n",
              "      <td>Free</td>\n",
              "      <td>0</td>\n",
              "      <td>Everyone</td>\n",
              "      <td>Art &amp; Design</td>\n",
              "      <td>August 1, 2018</td>\n",
              "      <td>1.2.4</td>\n",
              "      <td>4.0.3 and up</td>\n",
              "    </tr>\n",
              "    <tr>\n",
              "      <th>3</th>\n",
              "      <td>Sketch - Draw &amp; Paint</td>\n",
              "      <td>ART_AND_DESIGN</td>\n",
              "      <td>4.5</td>\n",
              "      <td>215644</td>\n",
              "      <td>25M</td>\n",
              "      <td>50,000,000+</td>\n",
              "      <td>Free</td>\n",
              "      <td>0</td>\n",
              "      <td>Teen</td>\n",
              "      <td>Art &amp; Design</td>\n",
              "      <td>June 8, 2018</td>\n",
              "      <td>Varies with device</td>\n",
              "      <td>4.2 and up</td>\n",
              "    </tr>\n",
              "    <tr>\n",
              "      <th>4</th>\n",
              "      <td>Pixel Draw - Number Art Coloring Book</td>\n",
              "      <td>ART_AND_DESIGN</td>\n",
              "      <td>4.3</td>\n",
              "      <td>967</td>\n",
              "      <td>2.8M</td>\n",
              "      <td>100,000+</td>\n",
              "      <td>Free</td>\n",
              "      <td>0</td>\n",
              "      <td>Everyone</td>\n",
              "      <td>Art &amp; Design;Creativity</td>\n",
              "      <td>June 20, 2018</td>\n",
              "      <td>1.1</td>\n",
              "      <td>4.4 and up</td>\n",
              "    </tr>\n",
              "    <tr>\n",
              "      <th>...</th>\n",
              "      <td>...</td>\n",
              "      <td>...</td>\n",
              "      <td>...</td>\n",
              "      <td>...</td>\n",
              "      <td>...</td>\n",
              "      <td>...</td>\n",
              "      <td>...</td>\n",
              "      <td>...</td>\n",
              "      <td>...</td>\n",
              "      <td>...</td>\n",
              "      <td>...</td>\n",
              "      <td>...</td>\n",
              "      <td>...</td>\n",
              "    </tr>\n",
              "    <tr>\n",
              "      <th>10836</th>\n",
              "      <td>Sya9a Maroc - FR</td>\n",
              "      <td>FAMILY</td>\n",
              "      <td>4.5</td>\n",
              "      <td>38</td>\n",
              "      <td>53M</td>\n",
              "      <td>5,000+</td>\n",
              "      <td>Free</td>\n",
              "      <td>0</td>\n",
              "      <td>Everyone</td>\n",
              "      <td>Education</td>\n",
              "      <td>July 25, 2017</td>\n",
              "      <td>1.48</td>\n",
              "      <td>4.1 and up</td>\n",
              "    </tr>\n",
              "    <tr>\n",
              "      <th>10837</th>\n",
              "      <td>Fr. Mike Schmitz Audio Teachings</td>\n",
              "      <td>FAMILY</td>\n",
              "      <td>5.0</td>\n",
              "      <td>4</td>\n",
              "      <td>3.6M</td>\n",
              "      <td>100+</td>\n",
              "      <td>Free</td>\n",
              "      <td>0</td>\n",
              "      <td>Everyone</td>\n",
              "      <td>Education</td>\n",
              "      <td>July 6, 2018</td>\n",
              "      <td>1.0</td>\n",
              "      <td>4.1 and up</td>\n",
              "    </tr>\n",
              "    <tr>\n",
              "      <th>10838</th>\n",
              "      <td>Parkinson Exercices FR</td>\n",
              "      <td>MEDICAL</td>\n",
              "      <td>NaN</td>\n",
              "      <td>3</td>\n",
              "      <td>9.5M</td>\n",
              "      <td>1,000+</td>\n",
              "      <td>Free</td>\n",
              "      <td>0</td>\n",
              "      <td>Everyone</td>\n",
              "      <td>Medical</td>\n",
              "      <td>January 20, 2017</td>\n",
              "      <td>1.0</td>\n",
              "      <td>2.2 and up</td>\n",
              "    </tr>\n",
              "    <tr>\n",
              "      <th>10839</th>\n",
              "      <td>The SCP Foundation DB fr nn5n</td>\n",
              "      <td>BOOKS_AND_REFERENCE</td>\n",
              "      <td>4.5</td>\n",
              "      <td>114</td>\n",
              "      <td>Varies with device</td>\n",
              "      <td>1,000+</td>\n",
              "      <td>Free</td>\n",
              "      <td>0</td>\n",
              "      <td>Mature 17+</td>\n",
              "      <td>Books &amp; Reference</td>\n",
              "      <td>January 19, 2015</td>\n",
              "      <td>Varies with device</td>\n",
              "      <td>Varies with device</td>\n",
              "    </tr>\n",
              "    <tr>\n",
              "      <th>10840</th>\n",
              "      <td>iHoroscope - 2018 Daily Horoscope &amp; Astrology</td>\n",
              "      <td>LIFESTYLE</td>\n",
              "      <td>4.5</td>\n",
              "      <td>398307</td>\n",
              "      <td>19M</td>\n",
              "      <td>10,000,000+</td>\n",
              "      <td>Free</td>\n",
              "      <td>0</td>\n",
              "      <td>Everyone</td>\n",
              "      <td>Lifestyle</td>\n",
              "      <td>July 25, 2018</td>\n",
              "      <td>Varies with device</td>\n",
              "      <td>Varies with device</td>\n",
              "    </tr>\n",
              "  </tbody>\n",
              "</table>\n",
              "<p>10841 rows × 13 columns</p>\n",
              "</div>"
            ],
            "text/plain": [
              "                                                     App  ...         Android Ver\n",
              "0         Photo Editor & Candy Camera & Grid & ScrapBook  ...        4.0.3 and up\n",
              "1                                    Coloring book moana  ...        4.0.3 and up\n",
              "2      U Launcher Lite – FREE Live Cool Themes, Hide ...  ...        4.0.3 and up\n",
              "3                                  Sketch - Draw & Paint  ...          4.2 and up\n",
              "4                  Pixel Draw - Number Art Coloring Book  ...          4.4 and up\n",
              "...                                                  ...  ...                 ...\n",
              "10836                                   Sya9a Maroc - FR  ...          4.1 and up\n",
              "10837                   Fr. Mike Schmitz Audio Teachings  ...          4.1 and up\n",
              "10838                             Parkinson Exercices FR  ...          2.2 and up\n",
              "10839                      The SCP Foundation DB fr nn5n  ...  Varies with device\n",
              "10840      iHoroscope - 2018 Daily Horoscope & Astrology  ...  Varies with device\n",
              "\n",
              "[10841 rows x 13 columns]"
            ]
          },
          "metadata": {
            "tags": []
          },
          "execution_count": 198
        }
      ]
    },
    {
      "cell_type": "code",
      "metadata": {
        "id": "45q00DgRJA2z",
        "colab": {
          "base_uri": "https://localhost:8080/",
          "height": 204
        },
        "outputId": "4edbc82d-12b2-4f6c-8f71-7a93d67c2bc8"
      },
      "source": [
        "df.head(5)"
      ],
      "execution_count": null,
      "outputs": [
        {
          "output_type": "execute_result",
          "data": {
            "text/html": [
              "<div>\n",
              "<style scoped>\n",
              "    .dataframe tbody tr th:only-of-type {\n",
              "        vertical-align: middle;\n",
              "    }\n",
              "\n",
              "    .dataframe tbody tr th {\n",
              "        vertical-align: top;\n",
              "    }\n",
              "\n",
              "    .dataframe thead th {\n",
              "        text-align: right;\n",
              "    }\n",
              "</style>\n",
              "<table border=\"1\" class=\"dataframe\">\n",
              "  <thead>\n",
              "    <tr style=\"text-align: right;\">\n",
              "      <th></th>\n",
              "      <th>App</th>\n",
              "      <th>Category</th>\n",
              "      <th>Rating</th>\n",
              "      <th>Reviews</th>\n",
              "      <th>Size</th>\n",
              "      <th>Installs</th>\n",
              "      <th>Type</th>\n",
              "      <th>Price</th>\n",
              "      <th>Content Rating</th>\n",
              "      <th>Genres</th>\n",
              "      <th>Last Updated</th>\n",
              "      <th>Current Ver</th>\n",
              "      <th>Android Ver</th>\n",
              "    </tr>\n",
              "  </thead>\n",
              "  <tbody>\n",
              "    <tr>\n",
              "      <th>0</th>\n",
              "      <td>Photo Editor &amp; Candy Camera &amp; Grid &amp; ScrapBook</td>\n",
              "      <td>ART_AND_DESIGN</td>\n",
              "      <td>4.1</td>\n",
              "      <td>159</td>\n",
              "      <td>19M</td>\n",
              "      <td>10,000+</td>\n",
              "      <td>Free</td>\n",
              "      <td>0</td>\n",
              "      <td>Everyone</td>\n",
              "      <td>Art &amp; Design</td>\n",
              "      <td>January 7, 2018</td>\n",
              "      <td>1.0.0</td>\n",
              "      <td>4.0.3 and up</td>\n",
              "    </tr>\n",
              "    <tr>\n",
              "      <th>1</th>\n",
              "      <td>Coloring book moana</td>\n",
              "      <td>ART_AND_DESIGN</td>\n",
              "      <td>3.9</td>\n",
              "      <td>967</td>\n",
              "      <td>14M</td>\n",
              "      <td>500,000+</td>\n",
              "      <td>Free</td>\n",
              "      <td>0</td>\n",
              "      <td>Everyone</td>\n",
              "      <td>Art &amp; Design;Pretend Play</td>\n",
              "      <td>January 15, 2018</td>\n",
              "      <td>2.0.0</td>\n",
              "      <td>4.0.3 and up</td>\n",
              "    </tr>\n",
              "    <tr>\n",
              "      <th>2</th>\n",
              "      <td>U Launcher Lite – FREE Live Cool Themes, Hide ...</td>\n",
              "      <td>ART_AND_DESIGN</td>\n",
              "      <td>4.7</td>\n",
              "      <td>87510</td>\n",
              "      <td>8.7M</td>\n",
              "      <td>5,000,000+</td>\n",
              "      <td>Free</td>\n",
              "      <td>0</td>\n",
              "      <td>Everyone</td>\n",
              "      <td>Art &amp; Design</td>\n",
              "      <td>August 1, 2018</td>\n",
              "      <td>1.2.4</td>\n",
              "      <td>4.0.3 and up</td>\n",
              "    </tr>\n",
              "    <tr>\n",
              "      <th>3</th>\n",
              "      <td>Sketch - Draw &amp; Paint</td>\n",
              "      <td>ART_AND_DESIGN</td>\n",
              "      <td>4.5</td>\n",
              "      <td>215644</td>\n",
              "      <td>25M</td>\n",
              "      <td>50,000,000+</td>\n",
              "      <td>Free</td>\n",
              "      <td>0</td>\n",
              "      <td>Teen</td>\n",
              "      <td>Art &amp; Design</td>\n",
              "      <td>June 8, 2018</td>\n",
              "      <td>Varies with device</td>\n",
              "      <td>4.2 and up</td>\n",
              "    </tr>\n",
              "    <tr>\n",
              "      <th>4</th>\n",
              "      <td>Pixel Draw - Number Art Coloring Book</td>\n",
              "      <td>ART_AND_DESIGN</td>\n",
              "      <td>4.3</td>\n",
              "      <td>967</td>\n",
              "      <td>2.8M</td>\n",
              "      <td>100,000+</td>\n",
              "      <td>Free</td>\n",
              "      <td>0</td>\n",
              "      <td>Everyone</td>\n",
              "      <td>Art &amp; Design;Creativity</td>\n",
              "      <td>June 20, 2018</td>\n",
              "      <td>1.1</td>\n",
              "      <td>4.4 and up</td>\n",
              "    </tr>\n",
              "  </tbody>\n",
              "</table>\n",
              "</div>"
            ],
            "text/plain": [
              "                                                 App  ...   Android Ver\n",
              "0     Photo Editor & Candy Camera & Grid & ScrapBook  ...  4.0.3 and up\n",
              "1                                Coloring book moana  ...  4.0.3 and up\n",
              "2  U Launcher Lite – FREE Live Cool Themes, Hide ...  ...  4.0.3 and up\n",
              "3                              Sketch - Draw & Paint  ...    4.2 and up\n",
              "4              Pixel Draw - Number Art Coloring Book  ...    4.4 and up\n",
              "\n",
              "[5 rows x 13 columns]"
            ]
          },
          "metadata": {
            "tags": []
          },
          "execution_count": 199
        }
      ]
    },
    {
      "cell_type": "markdown",
      "metadata": {
        "id": "hhyOgj9WD0LH"
      },
      "source": [
        "***"
      ]
    },
    {
      "cell_type": "markdown",
      "metadata": {
        "id": "KDWrQ5aND0LI"
      },
      "source": [
        "<a id='3.1'></a>\n",
        "\n",
        "## 3. Data Preprocessing\n",
        "\n"
      ]
    },
    {
      "cell_type": "markdown",
      "metadata": {
        "id": "sVXTOkCvydcr"
      },
      "source": [
        "### 3.1 Handling NULL/Duplication Values"
      ]
    },
    {
      "cell_type": "markdown",
      "metadata": {
        "id": "DOQWNUqXD0LJ"
      },
      "source": [
        "#### This is a very crucial step in every analysis and model, which help to improves the accuracy of insights and predictions.  \n",
        "\n",
        "TODO:(1 mark)\n",
        "\n",
        "Use the dataframe variable that you read from the previous section using pandas function.\n",
        "\n",
        "* Count number of Null in each columns\n",
        "\n",
        "* Drop all rows with Null values"
      ]
    },
    {
      "cell_type": "code",
      "metadata": {
        "id": "Dkqdugv1k8dT",
        "colab": {
          "base_uri": "https://localhost:8080/"
        },
        "outputId": "8b4268fd-770d-4028-b327-d8a151d55267"
      },
      "source": [
        "#Check the number of rows before the data cleaning\n",
        "df.shape"
      ],
      "execution_count": null,
      "outputs": [
        {
          "output_type": "execute_result",
          "data": {
            "text/plain": [
              "(10841, 13)"
            ]
          },
          "metadata": {
            "tags": []
          },
          "execution_count": 200
        }
      ]
    },
    {
      "cell_type": "code",
      "metadata": {
        "id": "k3nUFpzFI9WV",
        "colab": {
          "base_uri": "https://localhost:8080/"
        },
        "outputId": "a3b1ba68-741e-47b5-f5cb-20f5aa1ac753"
      },
      "source": [
        "df.isnull().sum()"
      ],
      "execution_count": null,
      "outputs": [
        {
          "output_type": "execute_result",
          "data": {
            "text/plain": [
              "App                  0\n",
              "Category             0\n",
              "Rating            1474\n",
              "Reviews              0\n",
              "Size                 0\n",
              "Installs             0\n",
              "Type                 1\n",
              "Price                0\n",
              "Content Rating       1\n",
              "Genres               0\n",
              "Last Updated         0\n",
              "Current Ver          8\n",
              "Android Ver          3\n",
              "dtype: int64"
            ]
          },
          "metadata": {
            "tags": []
          },
          "execution_count": 201
        }
      ]
    },
    {
      "cell_type": "code",
      "metadata": {
        "id": "CmbTpRmBkKg9",
        "colab": {
          "base_uri": "https://localhost:8080/"
        },
        "outputId": "b4d03df5-addb-409d-ad43-be9b5ef046d4"
      },
      "source": [
        "df=df.dropna()\n",
        "df.isnull().sum()"
      ],
      "execution_count": null,
      "outputs": [
        {
          "output_type": "execute_result",
          "data": {
            "text/plain": [
              "App               0\n",
              "Category          0\n",
              "Rating            0\n",
              "Reviews           0\n",
              "Size              0\n",
              "Installs          0\n",
              "Type              0\n",
              "Price             0\n",
              "Content Rating    0\n",
              "Genres            0\n",
              "Last Updated      0\n",
              "Current Ver       0\n",
              "Android Ver       0\n",
              "dtype: int64"
            ]
          },
          "metadata": {
            "tags": []
          },
          "execution_count": 202
        }
      ]
    },
    {
      "cell_type": "markdown",
      "metadata": {
        "id": "7eXlLvFHD0LM"
      },
      "source": [
        "#### There also duplications in the dataset\n",
        "TODO: (1 mark)\n",
        "\n",
        "* Remove the duplications rows in the dataset\n",
        "\n",
        "\n"
      ]
    },
    {
      "cell_type": "code",
      "metadata": {
        "id": "rS94eZKvkN_e"
      },
      "source": [
        "df = df.drop_duplicates()"
      ],
      "execution_count": null,
      "outputs": []
    },
    {
      "cell_type": "markdown",
      "metadata": {
        "id": "gJXuQGK3D0LQ"
      },
      "source": [
        "#### Print the shape of the data read\n",
        "* Display the size of the dataset read"
      ]
    },
    {
      "cell_type": "code",
      "metadata": {
        "id": "EpT3fLGKD0LR",
        "colab": {
          "base_uri": "https://localhost:8080/"
        },
        "outputId": "1444e42b-adcd-49bb-f416-a3999957c8e4"
      },
      "source": [
        "df.shape"
      ],
      "execution_count": null,
      "outputs": [
        {
          "output_type": "execute_result",
          "data": {
            "text/plain": [
              "(8886, 13)"
            ]
          },
          "metadata": {
            "tags": []
          },
          "execution_count": 204
        }
      ]
    },
    {
      "cell_type": "markdown",
      "metadata": {
        "id": "o9znBL1LD0LU"
      },
      "source": [
        "<a id='3.2'></a>\n",
        "### 3.2 Handling Data Types of each Feature\n",
        "\n",
        "#### The data types of each feature must be changed to a proper format that can be used for analysis.\n",
        "This is the tasks for this section."
      ]
    },
    {
      "cell_type": "markdown",
      "metadata": {
        "id": "pOuB2PaPD0LX"
      },
      "source": [
        "####TODO: (2 Marks)     \n",
        "\n",
        "The Column *Reviews* must be of correct numerical type\n",
        "\n",
        "* Check the Column Reviews type. Display the result.\n",
        "* Change the Reviews column type to int64. Display the result. "
      ]
    },
    {
      "cell_type": "code",
      "metadata": {
        "id": "bbCXMq7SoZTF",
        "colab": {
          "base_uri": "https://localhost:8080/"
        },
        "outputId": "844405bc-a279-4bfa-e562-ddf902d15b70"
      },
      "source": [
        "df.Reviews.dtypes"
      ],
      "execution_count": null,
      "outputs": [
        {
          "output_type": "execute_result",
          "data": {
            "text/plain": [
              "dtype('O')"
            ]
          },
          "metadata": {
            "tags": []
          },
          "execution_count": 205
        }
      ]
    },
    {
      "cell_type": "code",
      "metadata": {
        "id": "_WNLw7eUqi0v"
      },
      "source": [
        "df.Reviews = df.Reviews.astype('int64')"
      ],
      "execution_count": null,
      "outputs": []
    },
    {
      "cell_type": "code",
      "metadata": {
        "colab": {
          "base_uri": "https://localhost:8080/"
        },
        "id": "6HOSZChKqT6n",
        "outputId": "d0bde89f-0ce0-4977-f61f-462f6cdd9154"
      },
      "source": [
        "df.Reviews.dtypes"
      ],
      "execution_count": null,
      "outputs": [
        {
          "output_type": "execute_result",
          "data": {
            "text/plain": [
              "dtype('int64')"
            ]
          },
          "metadata": {
            "tags": []
          },
          "execution_count": 207
        }
      ]
    },
    {
      "cell_type": "markdown",
      "metadata": {
        "id": "lnLnxAEVD0Lb"
      },
      "source": [
        "####TODO:(2 Marks)\n",
        "Changing the Feature : Installs\n",
        "\n",
        "* The installs values must be changed to a proper format so that we can use them for analysis and plots.    \n",
        "Example : Change '10,000+' to 10000\n",
        "* After format the data in installs column, convert all items in the column to float.\n",
        "* Update the new data into your dataframe where the installs column is."
      ]
    },
    {
      "cell_type": "code",
      "metadata": {
        "colab": {
          "base_uri": "https://localhost:8080/"
        },
        "id": "4N_4E9DVqmI5",
        "outputId": "0108b18d-106c-4d5d-ca8b-f16dbf5f9606"
      },
      "source": [
        "df.Installs"
      ],
      "execution_count": null,
      "outputs": [
        {
          "output_type": "execute_result",
          "data": {
            "text/plain": [
              "0            10,000+\n",
              "1           500,000+\n",
              "2         5,000,000+\n",
              "3        50,000,000+\n",
              "4           100,000+\n",
              "            ...     \n",
              "10834           500+\n",
              "10836         5,000+\n",
              "10837           100+\n",
              "10839         1,000+\n",
              "10840    10,000,000+\n",
              "Name: Installs, Length: 8886, dtype: object"
            ]
          },
          "metadata": {
            "tags": []
          },
          "execution_count": 208
        }
      ]
    },
    {
      "cell_type": "code",
      "metadata": {
        "colab": {
          "base_uri": "https://localhost:8080/"
        },
        "id": "3gpHmwhsrwll",
        "outputId": "ba99319a-061e-40cc-bef0-4114cd491d4b"
      },
      "source": [
        "df.loc[:,'Installs'] = df.loc[:,'Installs'].apply(lambda x: float(re.sub(\"[^\\d\\.]\", \"\", x)))\n",
        "df.Installs"
      ],
      "execution_count": null,
      "outputs": [
        {
          "output_type": "execute_result",
          "data": {
            "text/plain": [
              "0           10000.0\n",
              "1          500000.0\n",
              "2         5000000.0\n",
              "3        50000000.0\n",
              "4          100000.0\n",
              "            ...    \n",
              "10834         500.0\n",
              "10836        5000.0\n",
              "10837         100.0\n",
              "10839        1000.0\n",
              "10840    10000000.0\n",
              "Name: Installs, Length: 8886, dtype: float64"
            ]
          },
          "metadata": {
            "tags": []
          },
          "execution_count": 209
        }
      ]
    },
    {
      "cell_type": "markdown",
      "metadata": {
        "id": "3qdBRbVqD0Le"
      },
      "source": [
        "####TODO: (2 Marks)\n",
        "Changing the feature : Size\n",
        "\n",
        "* The column Size values are not able to use for data analysis, it not a value.\n",
        "* Change if into number format example 15M to 15.0, Do for all the rest in this column,\n",
        "* After format the data in Size column, convert all items in the column to float.\n",
        "* Update the new data into your dataframe where the Size column is."
      ]
    },
    {
      "cell_type": "code",
      "metadata": {
        "colab": {
          "base_uri": "https://localhost:8080/"
        },
        "id": "6KUIo1LhtpBN",
        "outputId": "d9d9e3c2-9951-4613-9ed0-03d5f8069b22"
      },
      "source": [
        "df.Size"
      ],
      "execution_count": null,
      "outputs": [
        {
          "output_type": "execute_result",
          "data": {
            "text/plain": [
              "0                       19M\n",
              "1                       14M\n",
              "2                      8.7M\n",
              "3                       25M\n",
              "4                      2.8M\n",
              "                ...        \n",
              "10834                  2.6M\n",
              "10836                   53M\n",
              "10837                  3.6M\n",
              "10839    Varies with device\n",
              "10840                   19M\n",
              "Name: Size, Length: 8886, dtype: object"
            ]
          },
          "metadata": {
            "tags": []
          },
          "execution_count": 210
        }
      ]
    },
    {
      "cell_type": "code",
      "metadata": {
        "colab": {
          "base_uri": "https://localhost:8080/"
        },
        "id": "Ozew3I2IuQ6y",
        "outputId": "194360c2-36d2-425a-de10-f9a80aa9740b"
      },
      "source": [
        "df.loc[:,'Size'] = df.loc[:,'Size'].apply(lambda x: re.sub(\"[^\\d\\.]\", \"\", x))\n",
        "df.Size"
      ],
      "execution_count": null,
      "outputs": [
        {
          "output_type": "execute_result",
          "data": {
            "text/plain": [
              "0         19\n",
              "1         14\n",
              "2        8.7\n",
              "3         25\n",
              "4        2.8\n",
              "        ... \n",
              "10834    2.6\n",
              "10836     53\n",
              "10837    3.6\n",
              "10839       \n",
              "10840     19\n",
              "Name: Size, Length: 8886, dtype: object"
            ]
          },
          "metadata": {
            "tags": []
          },
          "execution_count": 211
        }
      ]
    },
    {
      "cell_type": "code",
      "metadata": {
        "colab": {
          "base_uri": "https://localhost:8080/"
        },
        "id": "OuXTrHf8v3d0",
        "outputId": "9e805328-b2c4-4f2e-baeb-fe2ddd2c3a2e"
      },
      "source": [
        "df.loc[:,'Size'] = df.loc[:,'Size'].apply(lambda x: ((x + '.0') if ('.' not in x) else x))\n",
        "df.Size"
      ],
      "execution_count": null,
      "outputs": [
        {
          "output_type": "execute_result",
          "data": {
            "text/plain": [
              "0        19.0\n",
              "1        14.0\n",
              "2         8.7\n",
              "3        25.0\n",
              "4         2.8\n",
              "         ... \n",
              "10834     2.6\n",
              "10836    53.0\n",
              "10837     3.6\n",
              "10839      .0\n",
              "10840    19.0\n",
              "Name: Size, Length: 8886, dtype: object"
            ]
          },
          "metadata": {
            "tags": []
          },
          "execution_count": 212
        }
      ]
    },
    {
      "cell_type": "code",
      "metadata": {
        "colab": {
          "base_uri": "https://localhost:8080/"
        },
        "id": "5xsZ6__MywQq",
        "outputId": "ca12c044-3f56-4ec7-a40d-3d15d480b757"
      },
      "source": [
        "df.loc[:,'Size'] = df.loc[:,'Size'].apply(float)\n",
        "df.Size"
      ],
      "execution_count": null,
      "outputs": [
        {
          "output_type": "execute_result",
          "data": {
            "text/plain": [
              "0        19.0\n",
              "1        14.0\n",
              "2         8.7\n",
              "3        25.0\n",
              "4         2.8\n",
              "         ... \n",
              "10834     2.6\n",
              "10836    53.0\n",
              "10837     3.6\n",
              "10839     0.0\n",
              "10840    19.0\n",
              "Name: Size, Length: 8886, dtype: float64"
            ]
          },
          "metadata": {
            "tags": []
          },
          "execution_count": 213
        }
      ]
    },
    {
      "cell_type": "markdown",
      "metadata": {
        "id": "wTPr3aiPD0Lh"
      },
      "source": [
        "####TODO: 2 (Marks)    \n",
        "\n",
        "Changing the feature Price \n",
        "\n",
        "* Most value in the Price column is 0 but some have value example  \n",
        "```\n",
        "$2.44\n",
        "```\n",
        "* You need to remove '$' in the data.\n",
        "* After format the data in Price column, convert all items in the column to float.\n",
        "* Update the new data into your dataframe where the Price column is."
      ]
    },
    {
      "cell_type": "code",
      "metadata": {
        "id": "mFAJ2-wAwm9W",
        "colab": {
          "base_uri": "https://localhost:8080/"
        },
        "outputId": "4a73d826-2570-43f5-b00d-1d876c459a77"
      },
      "source": [
        "df.Price"
      ],
      "execution_count": null,
      "outputs": [
        {
          "output_type": "execute_result",
          "data": {
            "text/plain": [
              "0        0\n",
              "1        0\n",
              "2        0\n",
              "3        0\n",
              "4        0\n",
              "        ..\n",
              "10834    0\n",
              "10836    0\n",
              "10837    0\n",
              "10839    0\n",
              "10840    0\n",
              "Name: Price, Length: 8886, dtype: object"
            ]
          },
          "metadata": {
            "tags": []
          },
          "execution_count": 214
        }
      ]
    },
    {
      "cell_type": "code",
      "metadata": {
        "colab": {
          "base_uri": "https://localhost:8080/"
        },
        "id": "SDOgcO7Tzbdv",
        "outputId": "3885848b-5462-4318-8b82-e79b626d3644"
      },
      "source": [
        "df.loc[df.Price != '0', 'Price']"
      ],
      "execution_count": null,
      "outputs": [
        {
          "output_type": "execute_result",
          "data": {
            "text/plain": [
              "234       $4.99\n",
              "235       $4.99\n",
              "427       $3.99\n",
              "476       $3.99\n",
              "477       $6.99\n",
              "          ...  \n",
              "10690     $0.99\n",
              "10697     $0.99\n",
              "10760     $7.99\n",
              "10782    $16.99\n",
              "10785     $1.20\n",
              "Name: Price, Length: 611, dtype: object"
            ]
          },
          "metadata": {
            "tags": []
          },
          "execution_count": 215
        }
      ]
    },
    {
      "cell_type": "code",
      "metadata": {
        "colab": {
          "base_uri": "https://localhost:8080/"
        },
        "id": "XbhuYAzazY8Y",
        "outputId": "427dbcfc-96c7-465c-fe77-be923369533c"
      },
      "source": [
        "df.loc[:,'Price'] = df.loc[:,'Price'].apply(lambda x: float(re.sub(\"[^\\d\\.]\", \"\", x)))\n",
        "df.loc[df.Price != '0', 'Price']"
      ],
      "execution_count": null,
      "outputs": [
        {
          "output_type": "execute_result",
          "data": {
            "text/plain": [
              "0        0.0\n",
              "1        0.0\n",
              "2        0.0\n",
              "3        0.0\n",
              "4        0.0\n",
              "        ... \n",
              "10834    0.0\n",
              "10836    0.0\n",
              "10837    0.0\n",
              "10839    0.0\n",
              "10840    0.0\n",
              "Name: Price, Length: 8886, dtype: float64"
            ]
          },
          "metadata": {
            "tags": []
          },
          "execution_count": 216
        }
      ]
    },
    {
      "cell_type": "code",
      "metadata": {
        "colab": {
          "base_uri": "https://localhost:8080/"
        },
        "id": "JJs_K9ND0NpP",
        "outputId": "3b035efd-2591-46d8-80d1-e92730ff8dd4"
      },
      "source": [
        "df.loc[df.Price != 0, 'Price']"
      ],
      "execution_count": null,
      "outputs": [
        {
          "output_type": "execute_result",
          "data": {
            "text/plain": [
              "234       4.99\n",
              "235       4.99\n",
              "427       3.99\n",
              "476       3.99\n",
              "477       6.99\n",
              "         ...  \n",
              "10690     0.99\n",
              "10697     0.99\n",
              "10760     7.99\n",
              "10782    16.99\n",
              "10785     1.20\n",
              "Name: Price, Length: 611, dtype: float64"
            ]
          },
          "metadata": {
            "tags": []
          },
          "execution_count": 217
        }
      ]
    },
    {
      "cell_type": "markdown",
      "metadata": {
        "id": "N_rfL46BD0Ll"
      },
      "source": [
        "####TODO: (2 Marks)\n",
        "\n",
        "Changing the feature, Android Ver \n",
        "\n",
        "The column Android Ver store data example 4.0.3 and up    \n",
        "* We are only interest on the major version not the minor version   \n",
        "* We need to change format, for example **4.0.3 and up**  to **4.0**, do for the rest of items in this column.\n",
        "* After format the data in Android Ver column, convert all items in the column to float.\n",
        "* Update the new data into your dataframe where the Android Ver column is."
      ]
    },
    {
      "cell_type": "code",
      "metadata": {
        "id": "xFMM62VEw4CY",
        "colab": {
          "base_uri": "https://localhost:8080/"
        },
        "outputId": "463af58c-8c76-4175-caf5-a869c07749e5"
      },
      "source": [
        "df['Android Ver']"
      ],
      "execution_count": null,
      "outputs": [
        {
          "output_type": "execute_result",
          "data": {
            "text/plain": [
              "0              4.0.3 and up\n",
              "1              4.0.3 and up\n",
              "2              4.0.3 and up\n",
              "3                4.2 and up\n",
              "4                4.4 and up\n",
              "                ...        \n",
              "10834            4.1 and up\n",
              "10836            4.1 and up\n",
              "10837            4.1 and up\n",
              "10839    Varies with device\n",
              "10840    Varies with device\n",
              "Name: Android Ver, Length: 8886, dtype: object"
            ]
          },
          "metadata": {
            "tags": []
          },
          "execution_count": 218
        }
      ]
    },
    {
      "cell_type": "code",
      "metadata": {
        "colab": {
          "base_uri": "https://localhost:8080/"
        },
        "id": "htNRDavN0vT3",
        "outputId": "4828b9b7-c7f6-4485-9446-96d28a1a7b43"
      },
      "source": [
        "df.loc[:,'Android Ver'] = df.loc[:,'Android Ver'].apply(lambda x: re.sub(\"[^\\d\\.]\", \"\", x))\n",
        "df['Android Ver']"
      ],
      "execution_count": null,
      "outputs": [
        {
          "output_type": "execute_result",
          "data": {
            "text/plain": [
              "0        4.0.3\n",
              "1        4.0.3\n",
              "2        4.0.3\n",
              "3          4.2\n",
              "4          4.4\n",
              "         ...  \n",
              "10834      4.1\n",
              "10836      4.1\n",
              "10837      4.1\n",
              "10839         \n",
              "10840         \n",
              "Name: Android Ver, Length: 8886, dtype: object"
            ]
          },
          "metadata": {
            "tags": []
          },
          "execution_count": 219
        }
      ]
    },
    {
      "cell_type": "code",
      "metadata": {
        "colab": {
          "base_uri": "https://localhost:8080/"
        },
        "id": "AcCFv6b808ZX",
        "outputId": "299f9843-41fb-4f91-b9ad-003ac1b8f504"
      },
      "source": [
        "df['Android Ver'].value_counts()"
      ],
      "execution_count": null,
      "outputs": [
        {
          "output_type": "execute_result",
          "data": {
            "text/plain": [
              "4.1           1987\n",
              "4.0.3         1197\n",
              "              1178\n",
              "4.0           1092\n",
              "4.4            794\n",
              "2.3            573\n",
              "5.0            481\n",
              "4.2            330\n",
              "2.3.3          238\n",
              "3.0            207\n",
              "2.2            203\n",
              "4.3            199\n",
              "2.1            112\n",
              "1.6             87\n",
              "6.0             46\n",
              "7.0             41\n",
              "3.2             31\n",
              "2.0             27\n",
              "5.1             16\n",
              "1.5             15\n",
              "3.1              8\n",
              "2.0.1            7\n",
              "8.0              5\n",
              "7.1              3\n",
              "5.08.0           2\n",
              "4.0.37.1.1       2\n",
              "1.0              2\n",
              "4.17.1.1         1\n",
              "5.06.0           1\n",
              "7.07.1.1         1\n",
              "Name: Android Ver, dtype: int64"
            ]
          },
          "metadata": {
            "tags": []
          },
          "execution_count": 220
        }
      ]
    },
    {
      "cell_type": "code",
      "metadata": {
        "colab": {
          "base_uri": "https://localhost:8080/"
        },
        "id": "LCdEokB11qAo",
        "outputId": "2dbe2b02-f333-4797-8523-2294467a4833"
      },
      "source": [
        "df.loc[:,'Android Ver'] = df.loc[:,'Android Ver'].apply(lambda x: float(x[:3]) if len(x)>2 else float('0.0'))\n",
        "df['Android Ver']"
      ],
      "execution_count": null,
      "outputs": [
        {
          "output_type": "execute_result",
          "data": {
            "text/plain": [
              "0        4.0\n",
              "1        4.0\n",
              "2        4.0\n",
              "3        4.2\n",
              "4        4.4\n",
              "        ... \n",
              "10834    4.1\n",
              "10836    4.1\n",
              "10837    4.1\n",
              "10839    0.0\n",
              "10840    0.0\n",
              "Name: Android Ver, Length: 8886, dtype: float64"
            ]
          },
          "metadata": {
            "tags": []
          },
          "execution_count": 221
        }
      ]
    },
    {
      "cell_type": "code",
      "metadata": {
        "colab": {
          "base_uri": "https://localhost:8080/"
        },
        "id": "P66HSFJf2qkS",
        "outputId": "d734bcdf-b85b-43c4-ad70-f0f9a2d15ec0"
      },
      "source": [
        "df['Android Ver'].value_counts()"
      ],
      "execution_count": null,
      "outputs": [
        {
          "output_type": "execute_result",
          "data": {
            "text/plain": [
              "4.0    2291\n",
              "4.1    1988\n",
              "0.0    1178\n",
              "2.3     811\n",
              "4.4     794\n",
              "5.0     484\n",
              "4.2     330\n",
              "3.0     207\n",
              "2.2     203\n",
              "4.3     199\n",
              "2.1     112\n",
              "1.6      87\n",
              "6.0      46\n",
              "7.0      42\n",
              "2.0      34\n",
              "3.2      31\n",
              "5.1      16\n",
              "1.5      15\n",
              "3.1       8\n",
              "8.0       5\n",
              "7.1       3\n",
              "1.0       2\n",
              "Name: Android Ver, dtype: int64"
            ]
          },
          "metadata": {
            "tags": []
          },
          "execution_count": 222
        }
      ]
    },
    {
      "cell_type": "markdown",
      "metadata": {
        "id": "_eaxlwziD0Lo"
      },
      "source": [
        "<a id='4'></a>\n",
        "## 4. Analyzing Features :"
      ]
    },
    {
      "cell_type": "markdown",
      "metadata": {
        "id": "5OC8X9U2D0Lp"
      },
      "source": [
        "### 4.1 Categories\n",
        "\n",
        "\n"
      ]
    },
    {
      "cell_type": "markdown",
      "metadata": {
        "id": "59q-9ScHjfw7"
      },
      "source": [
        "####TODO:(2 Marks) \n",
        "\n",
        "Find the Total count for each of the Category\n",
        "\n",
        "* In the Category column display the different App category. You need to count the total number for each Category.\n",
        "\n",
        "Example\n",
        "```\n",
        "Example only. Not the answer.\n",
        "\n",
        "FAMILY                 1717\n",
        "GAME                   1074\n",
        "TOOLS                   733\n",
        "PRODUCTIVITY            334\n",
        "FINANCE                 317\n",
        ".....\n",
        ".....\n",
        "```\n",
        "\n"
      ]
    },
    {
      "cell_type": "code",
      "metadata": {
        "id": "V5BPrLoex5rs",
        "colab": {
          "base_uri": "https://localhost:8080/"
        },
        "outputId": "8a1004a9-0ba9-424e-f3da-c8d4a12595ef"
      },
      "source": [
        "df.Category.value_counts()"
      ],
      "execution_count": null,
      "outputs": [
        {
          "output_type": "execute_result",
          "data": {
            "text/plain": [
              "FAMILY                 1717\n",
              "GAME                   1074\n",
              "TOOLS                   733\n",
              "PRODUCTIVITY            334\n",
              "FINANCE                 317\n",
              "PERSONALIZATION         308\n",
              "COMMUNICATION           307\n",
              "LIFESTYLE               305\n",
              "PHOTOGRAPHY             304\n",
              "MEDICAL                 302\n",
              "SPORTS                  286\n",
              "BUSINESS                270\n",
              "HEALTH_AND_FITNESS      262\n",
              "SOCIAL                  244\n",
              "NEWS_AND_MAGAZINES      214\n",
              "TRAVEL_AND_LOCAL        205\n",
              "SHOPPING                202\n",
              "BOOKS_AND_REFERENCE     177\n",
              "VIDEO_PLAYERS           160\n",
              "DATING                  159\n",
              "EDUCATION               129\n",
              "MAPS_AND_NAVIGATION     124\n",
              "ENTERTAINMENT           111\n",
              "FOOD_AND_DRINK          106\n",
              "WEATHER                  75\n",
              "AUTO_AND_VEHICLES        73\n",
              "HOUSE_AND_HOME           68\n",
              "LIBRARIES_AND_DEMO       64\n",
              "ART_AND_DESIGN           61\n",
              "COMICS                   58\n",
              "PARENTING                50\n",
              "EVENTS                   45\n",
              "BEAUTY                   42\n",
              "Name: Category, dtype: int64"
            ]
          },
          "metadata": {
            "tags": []
          },
          "execution_count": 223
        }
      ]
    },
    {
      "cell_type": "markdown",
      "metadata": {
        "id": "BEW_ZqJklaKv"
      },
      "source": [
        "####TODO:(3 Marks)   \n",
        "\n",
        "* Group using the column 'Type', 'Category'and aggregate Rating with the mean\n",
        "* Which 'Type' and 'Category' has the highest mean Rating? Write your answer in the text cell below.\n",
        "\n",
        "\n",
        "```\n",
        "Example only. Not the answer.\n",
        "\n",
        "\t\t                       Rating\n",
        "                             mean\n",
        "Type    Category\t\n",
        "Free\tART_AND_DESIGN\t       4.358621\n",
        "       AUTO_AND_VEHICLES\t   4.184722\n",
        "       BEAUTY\t               4.278571\n",
        "       BOOKS_AND_REFERENCE\t 4.350888\n",
        "       BUSINESS\t             4.103448\n",
        "...\t...\t...\n",
        "Paid\t SPORTS\t            4.254545\n",
        "        TOOLS          \t    4.169841\n",
        "        TRAVEL_AND_LOCAL\t  4.100000\n",
        "        VIDEO_PLAYERS\t      4.100000\n",
        "        WEATHER\t            4.371429\n",
        "```\n",
        "\n",
        "\n",
        "\n"
      ]
    },
    {
      "cell_type": "code",
      "metadata": {
        "colab": {
          "base_uri": "https://localhost:8080/"
        },
        "id": "0FuoEXmoOHBy",
        "outputId": "be62346c-13ed-4ba1-d971-c5d83c8337d6"
      },
      "source": [
        "df.columns"
      ],
      "execution_count": null,
      "outputs": [
        {
          "output_type": "execute_result",
          "data": {
            "text/plain": [
              "Index(['App', 'Category', 'Rating', 'Reviews', 'Size', 'Installs', 'Type',\n",
              "       'Price', 'Content Rating', 'Genres', 'Last Updated', 'Current Ver',\n",
              "       'Android Ver'],\n",
              "      dtype='object')"
            ]
          },
          "metadata": {
            "tags": []
          },
          "execution_count": 224
        }
      ]
    },
    {
      "cell_type": "code",
      "metadata": {
        "id": "7H8T-Qt_N1gS"
      },
      "source": [
        "g = df.groupby(['Type', 'Category'])"
      ],
      "execution_count": null,
      "outputs": []
    },
    {
      "cell_type": "code",
      "metadata": {
        "colab": {
          "base_uri": "https://localhost:8080/"
        },
        "id": "jIHPww_dPDSe",
        "outputId": "ad6c68e4-c34e-4157-a0b4-d5961305a253"
      },
      "source": [
        "g['Rating'].mean().max()"
      ],
      "execution_count": null,
      "outputs": [
        {
          "output_type": "execute_result",
          "data": {
            "text/plain": [
              "4.800000000000001"
            ]
          },
          "metadata": {
            "tags": []
          },
          "execution_count": 226
        }
      ]
    },
    {
      "cell_type": "code",
      "metadata": {
        "colab": {
          "base_uri": "https://localhost:8080/"
        },
        "id": "E2zTvXtmOOcz",
        "outputId": "5ce2a865-7a35-4b91-9ae2-6e3f2f834372"
      },
      "source": [
        "g['Rating'].mean().idxmax()"
      ],
      "execution_count": null,
      "outputs": [
        {
          "output_type": "execute_result",
          "data": {
            "text/plain": [
              "('Paid', 'NEWS_AND_MAGAZINES')"
            ]
          },
          "metadata": {
            "tags": []
          },
          "execution_count": 227
        }
      ]
    },
    {
      "cell_type": "markdown",
      "metadata": {
        "id": "HBGoUJz6vW3s"
      },
      "source": [
        "Which 'Type' and 'Category' has the highest mean Rating?\n",
        "\n",
        "\n",
        "\n",
        "*   Type: Paid\n",
        "*   Category: NEWS_AND_MAGAZINES\n",
        "\n",
        "\n"
      ]
    },
    {
      "cell_type": "markdown",
      "metadata": {
        "id": "Zg7dkxkYD0MD"
      },
      "source": [
        "### 4.2 Price \n",
        "#####TODO: (1 mark) \n",
        "\n",
        "* Find the row where the column Price is max and store as a dataframe"
      ]
    },
    {
      "cell_type": "code",
      "metadata": {
        "id": "DLcXDmoSzpxr",
        "colab": {
          "base_uri": "https://localhost:8080/"
        },
        "outputId": "cf160742-89ad-4c0a-d256-413643d3b763"
      },
      "source": [
        "df.Price.idxmax()"
      ],
      "execution_count": null,
      "outputs": [
        {
          "output_type": "execute_result",
          "data": {
            "text/plain": [
              "4367"
            ]
          },
          "metadata": {
            "tags": []
          },
          "execution_count": 228
        }
      ]
    },
    {
      "cell_type": "code",
      "metadata": {
        "colab": {
          "base_uri": "https://localhost:8080/"
        },
        "id": "1eGOvdc_TOB5",
        "outputId": "d6b63113-1092-4468-ece3-5be73e4ff453"
      },
      "source": [
        "df.Price.max()"
      ],
      "execution_count": null,
      "outputs": [
        {
          "output_type": "execute_result",
          "data": {
            "text/plain": [
              "400.0"
            ]
          },
          "metadata": {
            "tags": []
          },
          "execution_count": 232
        }
      ]
    },
    {
      "cell_type": "code",
      "metadata": {
        "colab": {
          "base_uri": "https://localhost:8080/",
          "height": 80
        },
        "id": "pEYExeXQS-Kf",
        "outputId": "2e443873-86c0-4f7b-951c-98c00adcc5b1"
      },
      "source": [
        "price_max_dataframe = df.loc[[4367]]\n",
        "price_max_dataframe"
      ],
      "execution_count": null,
      "outputs": [
        {
          "output_type": "execute_result",
          "data": {
            "text/html": [
              "<div>\n",
              "<style scoped>\n",
              "    .dataframe tbody tr th:only-of-type {\n",
              "        vertical-align: middle;\n",
              "    }\n",
              "\n",
              "    .dataframe tbody tr th {\n",
              "        vertical-align: top;\n",
              "    }\n",
              "\n",
              "    .dataframe thead th {\n",
              "        text-align: right;\n",
              "    }\n",
              "</style>\n",
              "<table border=\"1\" class=\"dataframe\">\n",
              "  <thead>\n",
              "    <tr style=\"text-align: right;\">\n",
              "      <th></th>\n",
              "      <th>App</th>\n",
              "      <th>Category</th>\n",
              "      <th>Rating</th>\n",
              "      <th>Reviews</th>\n",
              "      <th>Size</th>\n",
              "      <th>Installs</th>\n",
              "      <th>Type</th>\n",
              "      <th>Price</th>\n",
              "      <th>Content Rating</th>\n",
              "      <th>Genres</th>\n",
              "      <th>Last Updated</th>\n",
              "      <th>Current Ver</th>\n",
              "      <th>Android Ver</th>\n",
              "    </tr>\n",
              "  </thead>\n",
              "  <tbody>\n",
              "    <tr>\n",
              "      <th>4367</th>\n",
              "      <td>I'm Rich - Trump Edition</td>\n",
              "      <td>LIFESTYLE</td>\n",
              "      <td>3.6</td>\n",
              "      <td>275</td>\n",
              "      <td>7.3</td>\n",
              "      <td>10000.0</td>\n",
              "      <td>Paid</td>\n",
              "      <td>400.0</td>\n",
              "      <td>Everyone</td>\n",
              "      <td>Lifestyle</td>\n",
              "      <td>May 3, 2018</td>\n",
              "      <td>1.0.1</td>\n",
              "      <td>4.1</td>\n",
              "    </tr>\n",
              "  </tbody>\n",
              "</table>\n",
              "</div>"
            ],
            "text/plain": [
              "                           App   Category  ...  Current Ver  Android Ver\n",
              "4367  I'm Rich - Trump Edition  LIFESTYLE  ...        1.0.1          4.1\n",
              "\n",
              "[1 rows x 13 columns]"
            ]
          },
          "metadata": {
            "tags": []
          },
          "execution_count": 233
        }
      ]
    },
    {
      "cell_type": "markdown",
      "metadata": {
        "id": "E6HmcrImD0MR"
      },
      "source": [
        "<a id='5'></a>\n",
        "## 5. Furthur Analysis\n"
      ]
    },
    {
      "cell_type": "markdown",
      "metadata": {
        "id": "6zeTAgDV53j6"
      },
      "source": [
        "\n",
        "###TODO: (2 Marks)\n",
        "\n",
        "* Find all Apps with 5.0 ratings:\n",
        "\n",
        "* Then use the result to Group using the column 'Type', 'Category'and aggregate Rating with the number of count\n",
        "\n",
        "* Which of the Type and Group have the maximum Rating count? \n",
        "* Place your answers in the Text Cell. \n",
        "\n",
        "\n",
        "```\n",
        "Example only. Not the answer.\n",
        "\n",
        "\t\t                  Rating count\n",
        "Type\tCategory\t\n",
        "Free\tART_AND_DESIGN\t1\n",
        "      BOOKS_AND_REFERENCE\t4\n",
        "      BUSINESS\t18\n",
        "      COMICS\t2\n",
        "      COMMUNICATION\t5\n",
        "      DATING\t6\n",
        "      EVENTS\t6\n",
        "      FAMILY\t59\n",
        "      FINANCE\t8\n",
        "      FOOD_AND_DRINK\t2\n",
        "      GAME\t8\n",
        "      HEALTH_AND_FITNESS\t12\n",
        "      LIBRARIES_AND_DEMO\t2\n",
        "      LIFESTYLE\t27\n",
        "      MEDICAL\t23\n",
        "      NEWS_AND_MAGAZINES\t7\n",
        "      PARENTING\t1\n",
        "      PERSONALIZATION\t3\n",
        "      PHOTOGRAPHY\t6\n",
        "      PRODUCTIVITY\t7\n",
        "      SHOPPING\t6\n",
        "      SOCIAL\t8\n",
        "      SPORTS\t4\n",
        "      TOOLS\t15\n",
        "      TRAVEL_AND_LOCAL\t3\n",
        "Paid\tBOOKS_AND_REFERENCE\t2\n",
        "      FAMILY\t8\n",
        "      GAME\t4\n",
        "      LIFESTYLE\t2\n",
        "      MEDICAL\t2\n",
        "      PERSONALIZATION\t7\n",
        "      PRODUCTIVITY\t1\n",
        "      TOOLS\t2\n",
        "```\n",
        "\n"
      ]
    },
    {
      "cell_type": "code",
      "metadata": {
        "id": "YDU_lm0eK3Dm",
        "colab": {
          "base_uri": "https://localhost:8080/",
          "height": 419
        },
        "outputId": "599c6dbf-2cb0-41cc-e760-baa206100fad"
      },
      "source": [
        "df2 = df.loc[df.Rating == 5,:]\n",
        "df2"
      ],
      "execution_count": null,
      "outputs": [
        {
          "output_type": "execute_result",
          "data": {
            "text/html": [
              "<div>\n",
              "<style scoped>\n",
              "    .dataframe tbody tr th:only-of-type {\n",
              "        vertical-align: middle;\n",
              "    }\n",
              "\n",
              "    .dataframe tbody tr th {\n",
              "        vertical-align: top;\n",
              "    }\n",
              "\n",
              "    .dataframe thead th {\n",
              "        text-align: right;\n",
              "    }\n",
              "</style>\n",
              "<table border=\"1\" class=\"dataframe\">\n",
              "  <thead>\n",
              "    <tr style=\"text-align: right;\">\n",
              "      <th></th>\n",
              "      <th>App</th>\n",
              "      <th>Category</th>\n",
              "      <th>Rating</th>\n",
              "      <th>Reviews</th>\n",
              "      <th>Size</th>\n",
              "      <th>Installs</th>\n",
              "      <th>Type</th>\n",
              "      <th>Price</th>\n",
              "      <th>Content Rating</th>\n",
              "      <th>Genres</th>\n",
              "      <th>Last Updated</th>\n",
              "      <th>Current Ver</th>\n",
              "      <th>Android Ver</th>\n",
              "    </tr>\n",
              "  </thead>\n",
              "  <tbody>\n",
              "    <tr>\n",
              "      <th>329</th>\n",
              "      <td>Hojiboy Tojiboyev Life Hacks</td>\n",
              "      <td>COMICS</td>\n",
              "      <td>5.0</td>\n",
              "      <td>15</td>\n",
              "      <td>37.0</td>\n",
              "      <td>1000.0</td>\n",
              "      <td>Free</td>\n",
              "      <td>0.0</td>\n",
              "      <td>Everyone</td>\n",
              "      <td>Comics</td>\n",
              "      <td>June 26, 2018</td>\n",
              "      <td>2.0</td>\n",
              "      <td>4.0</td>\n",
              "    </tr>\n",
              "    <tr>\n",
              "      <th>612</th>\n",
              "      <td>American Girls Mobile Numbers</td>\n",
              "      <td>DATING</td>\n",
              "      <td>5.0</td>\n",
              "      <td>5</td>\n",
              "      <td>4.4</td>\n",
              "      <td>1000.0</td>\n",
              "      <td>Free</td>\n",
              "      <td>0.0</td>\n",
              "      <td>Mature 17+</td>\n",
              "      <td>Dating</td>\n",
              "      <td>July 17, 2018</td>\n",
              "      <td>3.0</td>\n",
              "      <td>4.0</td>\n",
              "    </tr>\n",
              "    <tr>\n",
              "      <th>615</th>\n",
              "      <td>Awake Dating</td>\n",
              "      <td>DATING</td>\n",
              "      <td>5.0</td>\n",
              "      <td>2</td>\n",
              "      <td>70.0</td>\n",
              "      <td>100.0</td>\n",
              "      <td>Free</td>\n",
              "      <td>0.0</td>\n",
              "      <td>Mature 17+</td>\n",
              "      <td>Dating</td>\n",
              "      <td>July 24, 2018</td>\n",
              "      <td>2.2.9</td>\n",
              "      <td>4.4</td>\n",
              "    </tr>\n",
              "    <tr>\n",
              "      <th>633</th>\n",
              "      <td>Spine- The dating app</td>\n",
              "      <td>DATING</td>\n",
              "      <td>5.0</td>\n",
              "      <td>5</td>\n",
              "      <td>9.3</td>\n",
              "      <td>500.0</td>\n",
              "      <td>Free</td>\n",
              "      <td>0.0</td>\n",
              "      <td>Teen</td>\n",
              "      <td>Dating</td>\n",
              "      <td>July 14, 2018</td>\n",
              "      <td>4.0</td>\n",
              "      <td>4.0</td>\n",
              "    </tr>\n",
              "    <tr>\n",
              "      <th>636</th>\n",
              "      <td>Girls Live Talk - Free Text and Video Chat</td>\n",
              "      <td>DATING</td>\n",
              "      <td>5.0</td>\n",
              "      <td>6</td>\n",
              "      <td>5.0</td>\n",
              "      <td>100.0</td>\n",
              "      <td>Free</td>\n",
              "      <td>0.0</td>\n",
              "      <td>Mature 17+</td>\n",
              "      <td>Dating</td>\n",
              "      <td>August 1, 2018</td>\n",
              "      <td>8.2</td>\n",
              "      <td>4.0</td>\n",
              "    </tr>\n",
              "    <tr>\n",
              "      <th>...</th>\n",
              "      <td>...</td>\n",
              "      <td>...</td>\n",
              "      <td>...</td>\n",
              "      <td>...</td>\n",
              "      <td>...</td>\n",
              "      <td>...</td>\n",
              "      <td>...</td>\n",
              "      <td>...</td>\n",
              "      <td>...</td>\n",
              "      <td>...</td>\n",
              "      <td>...</td>\n",
              "      <td>...</td>\n",
              "      <td>...</td>\n",
              "    </tr>\n",
              "    <tr>\n",
              "      <th>10721</th>\n",
              "      <td>Mad Dash Fo' Cash</td>\n",
              "      <td>GAME</td>\n",
              "      <td>5.0</td>\n",
              "      <td>14</td>\n",
              "      <td>16.0</td>\n",
              "      <td>100.0</td>\n",
              "      <td>Free</td>\n",
              "      <td>0.0</td>\n",
              "      <td>Everyone</td>\n",
              "      <td>Arcade</td>\n",
              "      <td>June 19, 2017</td>\n",
              "      <td>2.5a</td>\n",
              "      <td>4.1</td>\n",
              "    </tr>\n",
              "    <tr>\n",
              "      <th>10742</th>\n",
              "      <td>GKPB FP Online Church</td>\n",
              "      <td>LIFESTYLE</td>\n",
              "      <td>5.0</td>\n",
              "      <td>32</td>\n",
              "      <td>7.9</td>\n",
              "      <td>1000.0</td>\n",
              "      <td>Free</td>\n",
              "      <td>0.0</td>\n",
              "      <td>Everyone</td>\n",
              "      <td>Lifestyle</td>\n",
              "      <td>December 31, 2017</td>\n",
              "      <td>0.7.1</td>\n",
              "      <td>4.4</td>\n",
              "    </tr>\n",
              "    <tr>\n",
              "      <th>10776</th>\n",
              "      <td>Monster Ride Pro</td>\n",
              "      <td>GAME</td>\n",
              "      <td>5.0</td>\n",
              "      <td>1</td>\n",
              "      <td>24.0</td>\n",
              "      <td>10.0</td>\n",
              "      <td>Free</td>\n",
              "      <td>0.0</td>\n",
              "      <td>Everyone</td>\n",
              "      <td>Racing</td>\n",
              "      <td>March 5, 2018</td>\n",
              "      <td>2.0</td>\n",
              "      <td>2.3</td>\n",
              "    </tr>\n",
              "    <tr>\n",
              "      <th>10820</th>\n",
              "      <td>Fr. Daoud Lamei</td>\n",
              "      <td>FAMILY</td>\n",
              "      <td>5.0</td>\n",
              "      <td>22</td>\n",
              "      <td>8.6</td>\n",
              "      <td>1000.0</td>\n",
              "      <td>Free</td>\n",
              "      <td>0.0</td>\n",
              "      <td>Teen</td>\n",
              "      <td>Education</td>\n",
              "      <td>June 27, 2018</td>\n",
              "      <td>3.8.0</td>\n",
              "      <td>4.1</td>\n",
              "    </tr>\n",
              "    <tr>\n",
              "      <th>10837</th>\n",
              "      <td>Fr. Mike Schmitz Audio Teachings</td>\n",
              "      <td>FAMILY</td>\n",
              "      <td>5.0</td>\n",
              "      <td>4</td>\n",
              "      <td>3.6</td>\n",
              "      <td>100.0</td>\n",
              "      <td>Free</td>\n",
              "      <td>0.0</td>\n",
              "      <td>Everyone</td>\n",
              "      <td>Education</td>\n",
              "      <td>July 6, 2018</td>\n",
              "      <td>1.0</td>\n",
              "      <td>4.1</td>\n",
              "    </tr>\n",
              "  </tbody>\n",
              "</table>\n",
              "<p>271 rows × 13 columns</p>\n",
              "</div>"
            ],
            "text/plain": [
              "                                              App  ... Android Ver\n",
              "329                  Hojiboy Tojiboyev Life Hacks  ...         4.0\n",
              "612                 American Girls Mobile Numbers  ...         4.0\n",
              "615                                  Awake Dating  ...         4.4\n",
              "633                         Spine- The dating app  ...         4.0\n",
              "636    Girls Live Talk - Free Text and Video Chat  ...         4.0\n",
              "...                                           ...  ...         ...\n",
              "10721                           Mad Dash Fo' Cash  ...         4.1\n",
              "10742                       GKPB FP Online Church  ...         4.4\n",
              "10776                            Monster Ride Pro  ...         2.3\n",
              "10820                             Fr. Daoud Lamei  ...         4.1\n",
              "10837            Fr. Mike Schmitz Audio Teachings  ...         4.1\n",
              "\n",
              "[271 rows x 13 columns]"
            ]
          },
          "metadata": {
            "tags": []
          },
          "execution_count": 241
        }
      ]
    },
    {
      "cell_type": "code",
      "metadata": {
        "id": "9xNBlRszYloW",
        "colab": {
          "base_uri": "https://localhost:8080/"
        },
        "outputId": "43d9e924-86d0-4499-83ba-609e080438df"
      },
      "source": [
        "g2 = df2.groupby(['Type', 'Category'])\n",
        "g2"
      ],
      "execution_count": null,
      "outputs": [
        {
          "output_type": "execute_result",
          "data": {
            "text/plain": [
              "<pandas.core.groupby.generic.DataFrameGroupBy object at 0x7f7a2b6d9ed0>"
            ]
          },
          "metadata": {
            "tags": []
          },
          "execution_count": 242
        }
      ]
    },
    {
      "cell_type": "code",
      "metadata": {
        "id": "pP8EWzou9JxJ",
        "colab": {
          "base_uri": "https://localhost:8080/"
        },
        "outputId": "72c5caf0-0651-4f17-ee53-f60a4339fc58"
      },
      "source": [
        "g2['Rating'].count()"
      ],
      "execution_count": null,
      "outputs": [
        {
          "output_type": "execute_result",
          "data": {
            "text/plain": [
              "Type  Category           \n",
              "Free  ART_AND_DESIGN          1\n",
              "      BOOKS_AND_REFERENCE     4\n",
              "      BUSINESS               18\n",
              "      COMICS                  2\n",
              "      COMMUNICATION           5\n",
              "      DATING                  6\n",
              "      EVENTS                  6\n",
              "      FAMILY                 59\n",
              "      FINANCE                 8\n",
              "      FOOD_AND_DRINK          2\n",
              "      GAME                    8\n",
              "      HEALTH_AND_FITNESS     12\n",
              "      LIBRARIES_AND_DEMO      2\n",
              "      LIFESTYLE              27\n",
              "      MEDICAL                23\n",
              "      NEWS_AND_MAGAZINES      7\n",
              "      PARENTING               1\n",
              "      PERSONALIZATION         3\n",
              "      PHOTOGRAPHY             6\n",
              "      PRODUCTIVITY            7\n",
              "      SHOPPING                6\n",
              "      SOCIAL                  8\n",
              "      SPORTS                  4\n",
              "      TOOLS                  15\n",
              "      TRAVEL_AND_LOCAL        3\n",
              "Paid  BOOKS_AND_REFERENCE     2\n",
              "      FAMILY                  8\n",
              "      GAME                    4\n",
              "      LIFESTYLE               2\n",
              "      MEDICAL                 2\n",
              "      PERSONALIZATION         7\n",
              "      PRODUCTIVITY            1\n",
              "      TOOLS                   2\n",
              "Name: Rating, dtype: int64"
            ]
          },
          "metadata": {
            "tags": []
          },
          "execution_count": 243
        }
      ]
    },
    {
      "cell_type": "code",
      "metadata": {
        "colab": {
          "base_uri": "https://localhost:8080/"
        },
        "id": "8fucLPNgU9fl",
        "outputId": "c73602de-79f5-405a-b50b-95526be0fef9"
      },
      "source": [
        "g2['Rating'].count().idxmax()"
      ],
      "execution_count": null,
      "outputs": [
        {
          "output_type": "execute_result",
          "data": {
            "text/plain": [
              "('Free', 'FAMILY')"
            ]
          },
          "metadata": {
            "tags": []
          },
          "execution_count": 244
        }
      ]
    },
    {
      "cell_type": "markdown",
      "metadata": {
        "id": "9Ua_69-E4V4D"
      },
      "source": [
        "Which of the Type and Group have the maximum Rating count?\n",
        "\n",
        "\n",
        "\n",
        "*   Type: Free\n",
        "*   Group/Category: Family\n",
        "\n"
      ]
    },
    {
      "cell_type": "markdown",
      "metadata": {
        "id": "lUuOEEKCD0Mb"
      },
      "source": [
        "### TODO:  (2 Marks)\n",
        "\n",
        "* Show the descriptive statistics for the column Rating\n",
        "\n",
        "* Plot a frequencey plot for distribution of the column Rating\n",
        "\n",
        "* Get the skew value of the column Rating"
      ]
    },
    {
      "cell_type": "code",
      "metadata": {
        "id": "MQGf3Q-hFrIE",
        "colab": {
          "base_uri": "https://localhost:8080/"
        },
        "outputId": "189cd94b-917b-4db7-9b11-673d38d9f772"
      },
      "source": [
        "df.Rating.describe()"
      ],
      "execution_count": null,
      "outputs": [
        {
          "output_type": "execute_result",
          "data": {
            "text/plain": [
              "count    8886.000000\n",
              "mean        4.187959\n",
              "std         0.522428\n",
              "min         1.000000\n",
              "25%         4.000000\n",
              "50%         4.300000\n",
              "75%         4.500000\n",
              "max         5.000000\n",
              "Name: Rating, dtype: float64"
            ]
          },
          "metadata": {
            "tags": []
          },
          "execution_count": 245
        }
      ]
    },
    {
      "cell_type": "code",
      "metadata": {
        "colab": {
          "base_uri": "https://localhost:8080/"
        },
        "id": "Mq2llezHYjvM",
        "outputId": "3188b0a5-23db-4769-ab26-0a04cfed9816"
      },
      "source": [
        "sorted = df['Rating'].value_counts().sort_index()\n",
        "sorted"
      ],
      "execution_count": null,
      "outputs": [
        {
          "output_type": "execute_result",
          "data": {
            "text/plain": [
              "1.0      16\n",
              "1.2       1\n",
              "1.4       3\n",
              "1.5       3\n",
              "1.6       4\n",
              "1.7       8\n",
              "1.8       8\n",
              "1.9      12\n",
              "2.0      12\n",
              "2.1       8\n",
              "2.2      14\n",
              "2.3      20\n",
              "2.4      19\n",
              "2.5      20\n",
              "2.6      24\n",
              "2.7      23\n",
              "2.8      40\n",
              "2.9      45\n",
              "3.0      82\n",
              "3.1      69\n",
              "3.2      63\n",
              "3.3     101\n",
              "3.4     127\n",
              "3.5     157\n",
              "3.6     169\n",
              "3.7     231\n",
              "3.8     293\n",
              "3.9     372\n",
              "4.0     538\n",
              "4.1     656\n",
              "4.2     887\n",
              "4.3    1016\n",
              "4.4    1031\n",
              "4.5     976\n",
              "4.6     768\n",
              "4.7     484\n",
              "4.8     228\n",
              "4.9      87\n",
              "5.0     271\n",
              "Name: Rating, dtype: int64"
            ]
          },
          "metadata": {
            "tags": []
          },
          "execution_count": 273
        }
      ]
    },
    {
      "cell_type": "code",
      "metadata": {
        "id": "g-t6QwwrBTnB",
        "colab": {
          "base_uri": "https://localhost:8080/",
          "height": 271
        },
        "outputId": "3881b6a5-20dc-43df-b03d-4a2622f20543"
      },
      "source": [
        "ax = sorted.plot.bar(rot=90)"
      ],
      "execution_count": null,
      "outputs": [
        {
          "output_type": "display_data",
          "data": {
            "image/png": "[encoded data removed]",
            "text/plain": [
              "<Figure size 432x288 with 1 Axes>"
            ]
          },
          "metadata": {
            "tags": [],
            "needs_background": "light"
          }
        }
      ]
    },
    {
      "cell_type": "code",
      "metadata": {
        "colab": {
          "base_uri": "https://localhost:8080/"
        },
        "id": "XTdnGXMpX573",
        "outputId": "f6690f15-9445-4142-cd35-bbcbebca3471"
      },
      "source": [
        "skewValue = df.skew(axis=0) #by row\n",
        "print(\"Skew:\")\n",
        "print(skewValue)"
      ],
      "execution_count": null,
      "outputs": [
        {
          "output_type": "stream",
          "text": [
            "Skew:\n",
            "Rating         -1.823947\n",
            "Reviews        16.202305\n",
            "Size            7.420129\n",
            "Installs        9.372541\n",
            "Price          23.943394\n",
            "Android Ver    -1.180150\n",
            "dtype: float64\n"
          ],
          "name": "stdout"
        }
      ]
    },
    {
      "cell_type": "code",
      "metadata": {
        "colab": {
          "base_uri": "https://localhost:8080/"
        },
        "id": "cH7y2tciX5-V",
        "outputId": "4cee3bb0-e0d3-479b-d630-06775eac02ce"
      },
      "source": [
        "skewValue.Rating"
      ],
      "execution_count": null,
      "outputs": [
        {
          "output_type": "execute_result",
          "data": {
            "text/plain": [
              "-1.8239465880060681"
            ]
          },
          "metadata": {
            "tags": []
          },
          "execution_count": 278
        }
      ]
    },
    {
      "cell_type": "code",
      "metadata": {
        "id": "ttS9qTXIX6Bo"
      },
      "source": [
        ""
      ],
      "execution_count": null,
      "outputs": []
    },
    {
      "cell_type": "code",
      "metadata": {
        "id": "A8VrcJzaX6Ep"
      },
      "source": [
        ""
      ],
      "execution_count": null,
      "outputs": []
    },
    {
      "cell_type": "code",
      "metadata": {
        "id": "IOsN-lqOX6Iu"
      },
      "source": [
        ""
      ],
      "execution_count": null,
      "outputs": []
    },
    {
      "cell_type": "markdown",
      "metadata": {
        "id": "15fkZ61cdsQf"
      },
      "source": [
        "###TODO: (6 Marks)  \n",
        "\n",
        "Category and Reviews:\n",
        "\n",
        " \n",
        "* In each unique Category  get average of review and rating    \n",
        "* Sort the rating in the descending order as show result\n",
        "\n",
        "\n",
        "\n",
        "```\n",
        "Example only. Not the answer.\n",
        "\n",
        "\t                    Reviews\tRating\n",
        "Category\t\t\n",
        "EVENTS\t              3.568667e+03\t4.435556\n",
        "ART_AND_DESIGN\t      2.810356e+04\t4.377049\n",
        "EDUCATION\t            1.795715e+05\t4.375969\n",
        "BOOKS_AND_REFERENCE\t  1.235752e+05\t4.347458\n",
        "PERSONALIZATION\t      2.441312e+05\t4.333117\n",
        "PARENTING\t            1.907218e+04\t4.300000\n",
        "GAME\t                1.318002e+06\t4.281285\n",
        "BEAUTY\t              9.407929e+03\t4.278571\n",
        "HEALTH_AND_FITNESS\t  1.177293e+05\t4.261450\n",
        "SOCIAL\t              2.186789e+06\t4.254918\n",
        ".......\n",
        ".......\n",
        ".......\n",
        "```\n",
        "\n",
        "\n",
        "\n"
      ]
    },
    {
      "cell_type": "code",
      "metadata": {
        "id": "nQUA11aWKo4w",
        "colab": {
          "base_uri": "https://localhost:8080/"
        },
        "outputId": "c1eb26c7-38eb-4836-8449-b43715d0aee4"
      },
      "source": [
        "g3 = df.groupby('Category')\n",
        "g3"
      ],
      "execution_count": null,
      "outputs": [
        {
          "output_type": "execute_result",
          "data": {
            "text/plain": [
              "<pandas.core.groupby.generic.DataFrameGroupBy object at 0x7f7a1489f8d0>"
            ]
          },
          "metadata": {
            "tags": []
          },
          "execution_count": 280
        }
      ]
    },
    {
      "cell_type": "code",
      "metadata": {
        "id": "FRKooLI8-JN5",
        "colab": {
          "base_uri": "https://localhost:8080/",
          "height": 1000
        },
        "outputId": "8eec82b5-555d-453d-f6ba-0aa497364715"
      },
      "source": [
        "g3['Reviews', 'Rating'].mean().sort_values('Rating', ascending=False)"
      ],
      "execution_count": null,
      "outputs": [
        {
          "output_type": "stream",
          "text": [
            "/usr/local/lib/python3.7/dist-packages/ipykernel_launcher.py:1: FutureWarning: Indexing with multiple keys (implicitly converted to a tuple of keys) will be deprecated, use a list instead.\n",
            "  \"\"\"Entry point for launching an IPython kernel.\n"
          ],
          "name": "stderr"
        },
        {
          "output_type": "execute_result",
          "data": {
            "text/html": [
              "<div>\n",
              "<style scoped>\n",
              "    .dataframe tbody tr th:only-of-type {\n",
              "        vertical-align: middle;\n",
              "    }\n",
              "\n",
              "    .dataframe tbody tr th {\n",
              "        vertical-align: top;\n",
              "    }\n",
              "\n",
              "    .dataframe thead th {\n",
              "        text-align: right;\n",
              "    }\n",
              "</style>\n",
              "<table border=\"1\" class=\"dataframe\">\n",
              "  <thead>\n",
              "    <tr style=\"text-align: right;\">\n",
              "      <th></th>\n",
              "      <th>Reviews</th>\n",
              "      <th>Rating</th>\n",
              "    </tr>\n",
              "    <tr>\n",
              "      <th>Category</th>\n",
              "      <th></th>\n",
              "      <th></th>\n",
              "    </tr>\n",
              "  </thead>\n",
              "  <tbody>\n",
              "    <tr>\n",
              "      <th>EVENTS</th>\n",
              "      <td>3.568667e+03</td>\n",
              "      <td>4.435556</td>\n",
              "    </tr>\n",
              "    <tr>\n",
              "      <th>ART_AND_DESIGN</th>\n",
              "      <td>2.810356e+04</td>\n",
              "      <td>4.377049</td>\n",
              "    </tr>\n",
              "    <tr>\n",
              "      <th>EDUCATION</th>\n",
              "      <td>1.795715e+05</td>\n",
              "      <td>4.375969</td>\n",
              "    </tr>\n",
              "    <tr>\n",
              "      <th>BOOKS_AND_REFERENCE</th>\n",
              "      <td>1.235752e+05</td>\n",
              "      <td>4.347458</td>\n",
              "    </tr>\n",
              "    <tr>\n",
              "      <th>PERSONALIZATION</th>\n",
              "      <td>2.441312e+05</td>\n",
              "      <td>4.333117</td>\n",
              "    </tr>\n",
              "    <tr>\n",
              "      <th>PARENTING</th>\n",
              "      <td>1.907218e+04</td>\n",
              "      <td>4.300000</td>\n",
              "    </tr>\n",
              "    <tr>\n",
              "      <th>GAME</th>\n",
              "      <td>1.318002e+06</td>\n",
              "      <td>4.281285</td>\n",
              "    </tr>\n",
              "    <tr>\n",
              "      <th>BEAUTY</th>\n",
              "      <td>9.407929e+03</td>\n",
              "      <td>4.278571</td>\n",
              "    </tr>\n",
              "    <tr>\n",
              "      <th>HEALTH_AND_FITNESS</th>\n",
              "      <td>1.177293e+05</td>\n",
              "      <td>4.261450</td>\n",
              "    </tr>\n",
              "    <tr>\n",
              "      <th>SOCIAL</th>\n",
              "      <td>2.186789e+06</td>\n",
              "      <td>4.254918</td>\n",
              "    </tr>\n",
              "    <tr>\n",
              "      <th>SHOPPING</th>\n",
              "      <td>4.699553e+05</td>\n",
              "      <td>4.251485</td>\n",
              "    </tr>\n",
              "    <tr>\n",
              "      <th>WEATHER</th>\n",
              "      <td>1.947293e+05</td>\n",
              "      <td>4.244000</td>\n",
              "    </tr>\n",
              "    <tr>\n",
              "      <th>SPORTS</th>\n",
              "      <td>2.283990e+05</td>\n",
              "      <td>4.225175</td>\n",
              "    </tr>\n",
              "    <tr>\n",
              "      <th>PRODUCTIVITY</th>\n",
              "      <td>3.070486e+05</td>\n",
              "      <td>4.201796</td>\n",
              "    </tr>\n",
              "    <tr>\n",
              "      <th>FAMILY</th>\n",
              "      <td>2.310824e+05</td>\n",
              "      <td>4.191264</td>\n",
              "    </tr>\n",
              "    <tr>\n",
              "      <th>AUTO_AND_VEHICLES</th>\n",
              "      <td>1.594014e+04</td>\n",
              "      <td>4.190411</td>\n",
              "    </tr>\n",
              "    <tr>\n",
              "      <th>PHOTOGRAPHY</th>\n",
              "      <td>6.720308e+05</td>\n",
              "      <td>4.182895</td>\n",
              "    </tr>\n",
              "    <tr>\n",
              "      <th>MEDICAL</th>\n",
              "      <td>4.623930e+03</td>\n",
              "      <td>4.182450</td>\n",
              "    </tr>\n",
              "    <tr>\n",
              "      <th>LIBRARIES_AND_DEMO</th>\n",
              "      <td>1.583422e+04</td>\n",
              "      <td>4.179688</td>\n",
              "    </tr>\n",
              "    <tr>\n",
              "      <th>HOUSE_AND_HOME</th>\n",
              "      <td>4.109399e+04</td>\n",
              "      <td>4.164706</td>\n",
              "    </tr>\n",
              "    <tr>\n",
              "      <th>FOOD_AND_DRINK</th>\n",
              "      <td>7.237033e+04</td>\n",
              "      <td>4.164151</td>\n",
              "    </tr>\n",
              "    <tr>\n",
              "      <th>COMICS</th>\n",
              "      <td>5.830940e+04</td>\n",
              "      <td>4.155172</td>\n",
              "    </tr>\n",
              "    <tr>\n",
              "      <th>COMMUNICATION</th>\n",
              "      <td>1.958544e+06</td>\n",
              "      <td>4.151466</td>\n",
              "    </tr>\n",
              "    <tr>\n",
              "      <th>ENTERTAINMENT</th>\n",
              "      <td>4.285650e+05</td>\n",
              "      <td>4.136036</td>\n",
              "    </tr>\n",
              "    <tr>\n",
              "      <th>NEWS_AND_MAGAZINES</th>\n",
              "      <td>1.787145e+05</td>\n",
              "      <td>4.128505</td>\n",
              "    </tr>\n",
              "    <tr>\n",
              "      <th>FINANCE</th>\n",
              "      <td>5.362640e+04</td>\n",
              "      <td>4.127445</td>\n",
              "    </tr>\n",
              "    <tr>\n",
              "      <th>BUSINESS</th>\n",
              "      <td>4.576928e+04</td>\n",
              "      <td>4.102593</td>\n",
              "    </tr>\n",
              "    <tr>\n",
              "      <th>LIFESTYLE</th>\n",
              "      <td>4.203134e+04</td>\n",
              "      <td>4.096066</td>\n",
              "    </tr>\n",
              "    <tr>\n",
              "      <th>TRAVEL_AND_LOCAL</th>\n",
              "      <td>2.710488e+05</td>\n",
              "      <td>4.094146</td>\n",
              "    </tr>\n",
              "    <tr>\n",
              "      <th>VIDEO_PLAYERS</th>\n",
              "      <td>6.898731e+05</td>\n",
              "      <td>4.063750</td>\n",
              "    </tr>\n",
              "    <tr>\n",
              "      <th>MAPS_AND_NAVIGATION</th>\n",
              "      <td>2.472505e+05</td>\n",
              "      <td>4.051613</td>\n",
              "    </tr>\n",
              "    <tr>\n",
              "      <th>TOOLS</th>\n",
              "      <td>3.726878e+05</td>\n",
              "      <td>4.047203</td>\n",
              "    </tr>\n",
              "    <tr>\n",
              "      <th>DATING</th>\n",
              "      <td>3.487525e+04</td>\n",
              "      <td>3.971698</td>\n",
              "    </tr>\n",
              "  </tbody>\n",
              "</table>\n",
              "</div>"
            ],
            "text/plain": [
              "                          Reviews    Rating\n",
              "Category                                   \n",
              "EVENTS               3.568667e+03  4.435556\n",
              "ART_AND_DESIGN       2.810356e+04  4.377049\n",
              "EDUCATION            1.795715e+05  4.375969\n",
              "BOOKS_AND_REFERENCE  1.235752e+05  4.347458\n",
              "PERSONALIZATION      2.441312e+05  4.333117\n",
              "PARENTING            1.907218e+04  4.300000\n",
              "GAME                 1.318002e+06  4.281285\n",
              "BEAUTY               9.407929e+03  4.278571\n",
              "HEALTH_AND_FITNESS   1.177293e+05  4.261450\n",
              "SOCIAL               2.186789e+06  4.254918\n",
              "SHOPPING             4.699553e+05  4.251485\n",
              "WEATHER              1.947293e+05  4.244000\n",
              "SPORTS               2.283990e+05  4.225175\n",
              "PRODUCTIVITY         3.070486e+05  4.201796\n",
              "FAMILY               2.310824e+05  4.191264\n",
              "AUTO_AND_VEHICLES    1.594014e+04  4.190411\n",
              "PHOTOGRAPHY          6.720308e+05  4.182895\n",
              "MEDICAL              4.623930e+03  4.182450\n",
              "LIBRARIES_AND_DEMO   1.583422e+04  4.179688\n",
              "HOUSE_AND_HOME       4.109399e+04  4.164706\n",
              "FOOD_AND_DRINK       7.237033e+04  4.164151\n",
              "COMICS               5.830940e+04  4.155172\n",
              "COMMUNICATION        1.958544e+06  4.151466\n",
              "ENTERTAINMENT        4.285650e+05  4.136036\n",
              "NEWS_AND_MAGAZINES   1.787145e+05  4.128505\n",
              "FINANCE              5.362640e+04  4.127445\n",
              "BUSINESS             4.576928e+04  4.102593\n",
              "LIFESTYLE            4.203134e+04  4.096066\n",
              "TRAVEL_AND_LOCAL     2.710488e+05  4.094146\n",
              "VIDEO_PLAYERS        6.898731e+05  4.063750\n",
              "MAPS_AND_NAVIGATION  2.472505e+05  4.051613\n",
              "TOOLS                3.726878e+05  4.047203\n",
              "DATING               3.487525e+04  3.971698"
            ]
          },
          "metadata": {
            "tags": []
          },
          "execution_count": 287
        }
      ]
    },
    {
      "cell_type": "code",
      "metadata": {
        "id": "WhxiZCQWcJgP"
      },
      "source": [
        ""
      ],
      "execution_count": null,
      "outputs": []
    }
  ]
}